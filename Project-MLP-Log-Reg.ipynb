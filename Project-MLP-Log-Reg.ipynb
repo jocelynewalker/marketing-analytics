{
 "cells": [
  {
   "cell_type": "code",
   "execution_count": 3,
   "metadata": {},
   "outputs": [
    {
     "data": {
      "text/plain": [
       "Index(['District', 'Latitude', 'Longitude', 'Shop_type', 'OP_time',\n",
       "       'Ultra_food', 'Per_ultra', 'Ready_food', 'CERE', 'WHITE', 'VITAMINV',\n",
       "       'VITAMINRT', 'DARKV', 'OTHERV', 'VITAMINF', 'OTHERF', 'ORGANM',\n",
       "       'FLESHM', 'FISH', 'INSECTSV', 'EGGS', 'MILK', 'NUTS', 'LEGUM', 'OILF',\n",
       "       'SWEETS', 'SAB', 'OUT_CER'],\n",
       "      dtype='object')"
      ]
     },
     "execution_count": 3,
     "metadata": {},
     "output_type": "execute_result"
    }
   ],
   "source": [
    "import pandas as pd\n",
    "import numpy as np\n",
    "from sklearn.model_selection import (train_test_split,KFold)\n",
    "from sklearn.metrics import mean_squared_error\n",
    "from sklearn.neural_network import MLPRegressor\n",
    "from sklearn.preprocessing import StandardScaler\n",
    "import matplotlib.pyplot as plt\n",
    "import glob\n",
    "%matplotlib inline\n",
    "\n",
    "\n",
    "df = pd.read_csv(\"rd4dd_census_clean.csv\")\n",
    "df.columns\n",
    "y = df['OP_time'].values\n",
    "X = df.drop(['OP_time'], axis = 1)\n"
   ]
  },
  {
   "cell_type": "code",
   "execution_count": 5,
   "metadata": {},
   "outputs": [
    {
     "data": {
      "image/png": "[encoded data removed]",
      "text/plain": [
       "<Figure size 432x288 with 2 Axes>"
      ]
     },
     "metadata": {
      "needs_background": "light"
     },
     "output_type": "display_data"
    }
   ],
   "source": [
    "import seaborn as sn\n",
    "import matplotlib.pyplot as plt\n",
    "\n",
    "replace = {1:1,2:1,3:2,4:2}\n",
    "\n",
    "y_new = pd.Series([replace.get(x,x) for x in y], name = \"OP_time\")\n",
    "\n",
    "df_3_1 = pd.merge(X, y_new, right_index = True, left_index = True)\n",
    "\n",
    "corrMatrix = df.corr()\n",
    "#print(corrMatrix)\n",
    "\n",
    "sn.heatmap(corrMatrix, annot=False)\n",
    "plt.show()"
   ]
  },
  {
   "cell_type": "code",
   "execution_count": 20,
   "metadata": {},
   "outputs": [
    {
     "name": "stderr",
     "output_type": "stream",
     "text": [
      "C:\\Users\\jocel\\anaconda3\\lib\\site-packages\\sklearn\\linear_model\\_logistic.py:940: ConvergenceWarning: lbfgs failed to converge (status=1):\n",
      "STOP: TOTAL NO. of ITERATIONS REACHED LIMIT.\n",
      "\n",
      "Increase the number of iterations (max_iter) or scale the data as shown in:\n",
      "    https://scikit-learn.org/stable/modules/preprocessing.html\n",
      "Please also refer to the documentation for alternative solver options:\n",
      "    https://scikit-learn.org/stable/modules/linear_model.html#logistic-regression\n",
      "  extra_warning_msg=_LOGISTIC_SOLVER_CONVERGENCE_MSG)\n"
     ]
    },
    {
     "name": "stdout",
     "output_type": "stream",
     "text": [
      "Top 5 features selected from RFE\n",
      "          name  ranking\n",
      "0     District        1\n",
      "3    Shop_type        1\n",
      "6   Ready_food        1\n",
      "7         CERE        1\n",
      "8        WHITE        1\n",
      "11       DARKV        1\n",
      "14      OTHERF        1\n",
      "15      ORGANM        1\n",
      "18    INSECTSV        1\n",
      "20        MILK        1\n",
      "21        NUTS        1\n",
      "22       LEGUM        1\n",
      "23        OILF        1\n",
      "25         SAB        1\n",
      "26     OUT_CER        1\n"
     ]
    }
   ],
   "source": [
    "from sklearn.feature_selection import RFE\n",
    "from sklearn.linear_model import LogisticRegression\n",
    "\n",
    "estimator = LogisticRegression(max_iter=1000)\n",
    "selector = RFE(estimator, n_features_to_select=15, step=1)\n",
    "selector = selector.fit(X, y)\n",
    "rankings = pd.Series(selector.ranking_, name = 'ranking')\n",
    "names = pd.Series(X.columns, name = 'name')\n",
    "\n",
    "combined = pd.merge(names, rankings, left_index = True, right_index = True)\n",
    "print(\"Top 5 features selected from RFE\")\n",
    "print(combined[combined['ranking']==1])"
   ]
  },
  {
   "cell_type": "code",
   "execution_count": 18,
   "metadata": {},
   "outputs": [],
   "source": [
    "from sklearn.model_selection import train_test_split\n",
    "\n",
    "X_train, X_test, y_train, y_test = train_test_split(X, y, test_size = 0.2, random_state = 50)"
   ]
  },
  {
   "cell_type": "code",
   "execution_count": 7,
   "metadata": {},
   "outputs": [],
   "source": [
    "X_scaler = StandardScaler()"
   ]
  },
  {
   "cell_type": "code",
   "execution_count": 21,
   "metadata": {},
   "outputs": [
    {
     "name": "stdout",
     "output_type": "stream",
     "text": [
      "\n",
      "RFE Selected Predictors, Test R^2 Score\n",
      "0.45652303260664473\n"
     ]
    }
   ],
   "source": [
    "from sklearn.metrics import r2_score\n",
    "\n",
    "rfe_selection = combined[combined['ranking']==1]['name'].values\n",
    "X_train_c = X_train[rfe_selection]\n",
    "X_test_c = X_test[rfe_selection]\n",
    "X_train_c = X_scaler.fit_transform(X_train_c)\n",
    "X_test_c = X_scaler.transform(X_test_c)\n",
    "\n",
    "mod_c = MLPRegressor(max_iter = 1000,random_state=1).fit(X_train_c, y_train)\n",
    "print(\"\\nRFE Selected Predictors, Test R^2 Score\")\n",
    "print(r2_score(y_test, mod_c.predict(X_test_c)))"
   ]
  }
 ],
 "metadata": {
  "kernelspec": {
   "display_name": "Python 3",
   "language": "python",
   "name": "python3"
  },
  "language_info": {
   "codemirror_mode": {
    "name": "ipython",
    "version": 3
   },
   "file_extension": ".py",
   "mimetype": "text/x-python",
   "name": "python",
   "nbconvert_exporter": "python",
   "pygments_lexer": "ipython3",
   "version": "3.7.6"
  }
 },
 "nbformat": 4,
 "nbformat_minor": 4
}
